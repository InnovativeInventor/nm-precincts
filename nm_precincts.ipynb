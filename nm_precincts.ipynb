{
 "cells": [
  {
   "cell_type": "code",
   "execution_count": 1,
   "id": "bf101aa7",
   "metadata": {},
   "outputs": [],
   "source": [
    "import pandas as pd\n",
    "import geopandas as gpd"
   ]
  },
  {
   "cell_type": "code",
   "execution_count": 2,
   "id": "a7c6d513",
   "metadata": {},
   "outputs": [],
   "source": [
    "assignments = pd.read_csv(\"NM VTD Block Assign FINAL 20210812.csv\")"
   ]
  },
  {
   "cell_type": "code",
   "execution_count": 3,
   "id": "aa749129",
   "metadata": {},
   "outputs": [],
   "source": [
    "assignments[\"block\"] = assignments[\"Block\"].astype(str)\n",
    "assignments[\"vtdgeoid\"] = assignments[\"VTDID\"].astype(str)"
   ]
  },
  {
   "cell_type": "code",
   "execution_count": 4,
   "id": "e69b4573",
   "metadata": {},
   "outputs": [],
   "source": [
    "census_vtd = gpd.read_file(\"/home/max/git/census-process/final/nm/nm_vtd.shp\")\n",
    "census_blocks = gpd.read_file(\"/home/max/git/census-process/final/nm/nm_block.shp\")"
   ]
  },
  {
   "cell_type": "markdown",
   "id": "c2009921",
   "metadata": {},
   "source": [
    "## New Mexico plausibility checks"
   ]
  },
  {
   "cell_type": "code",
   "execution_count": 5,
   "id": "80288f89",
   "metadata": {},
   "outputs": [
    {
     "data": {
      "text/html": [
       "<div>\n",
       "<style scoped>\n",
       "    .dataframe tbody tr th:only-of-type {\n",
       "        vertical-align: middle;\n",
       "    }\n",
       "\n",
       "    .dataframe tbody tr th {\n",
       "        vertical-align: top;\n",
       "    }\n",
       "\n",
       "    .dataframe thead th {\n",
       "        text-align: right;\n",
       "    }\n",
       "</style>\n",
       "<table border=\"1\" class=\"dataframe\">\n",
       "  <thead>\n",
       "    <tr style=\"text-align: right;\">\n",
       "      <th></th>\n",
       "      <th>Block</th>\n",
       "      <th>VTDID</th>\n",
       "      <th>State</th>\n",
       "      <th>County</th>\n",
       "      <th>VTD</th>\n",
       "      <th>VTD Name</th>\n",
       "      <th>block</th>\n",
       "      <th>vtdgeoid</th>\n",
       "    </tr>\n",
       "  </thead>\n",
       "  <tbody>\n",
       "    <tr>\n",
       "      <th>0</th>\n",
       "      <td>350010001071000</td>\n",
       "      <td>35001000564</td>\n",
       "      <td>35</td>\n",
       "      <td>1</td>\n",
       "      <td>564</td>\n",
       "      <td>564</td>\n",
       "      <td>350010001071000</td>\n",
       "      <td>35001000564</td>\n",
       "    </tr>\n",
       "    <tr>\n",
       "      <th>1</th>\n",
       "      <td>350010001071001</td>\n",
       "      <td>35001000564</td>\n",
       "      <td>35</td>\n",
       "      <td>1</td>\n",
       "      <td>564</td>\n",
       "      <td>564</td>\n",
       "      <td>350010001071001</td>\n",
       "      <td>35001000564</td>\n",
       "    </tr>\n",
       "    <tr>\n",
       "      <th>2</th>\n",
       "      <td>350010001071002</td>\n",
       "      <td>35001000564</td>\n",
       "      <td>35</td>\n",
       "      <td>1</td>\n",
       "      <td>564</td>\n",
       "      <td>564</td>\n",
       "      <td>350010001071002</td>\n",
       "      <td>35001000564</td>\n",
       "    </tr>\n",
       "    <tr>\n",
       "      <th>3</th>\n",
       "      <td>350010001071003</td>\n",
       "      <td>35001000564</td>\n",
       "      <td>35</td>\n",
       "      <td>1</td>\n",
       "      <td>564</td>\n",
       "      <td>564</td>\n",
       "      <td>350010001071003</td>\n",
       "      <td>35001000564</td>\n",
       "    </tr>\n",
       "    <tr>\n",
       "      <th>4</th>\n",
       "      <td>350010001071004</td>\n",
       "      <td>35001000564</td>\n",
       "      <td>35</td>\n",
       "      <td>1</td>\n",
       "      <td>564</td>\n",
       "      <td>564</td>\n",
       "      <td>350010001071004</td>\n",
       "      <td>35001000564</td>\n",
       "    </tr>\n",
       "    <tr>\n",
       "      <th>...</th>\n",
       "      <td>...</td>\n",
       "      <td>...</td>\n",
       "      <td>...</td>\n",
       "      <td>...</td>\n",
       "      <td>...</td>\n",
       "      <td>...</td>\n",
       "      <td>...</td>\n",
       "      <td>...</td>\n",
       "    </tr>\n",
       "    <tr>\n",
       "      <th>107210</th>\n",
       "      <td>350619803001004</td>\n",
       "      <td>35061000041</td>\n",
       "      <td>35</td>\n",
       "      <td>61</td>\n",
       "      <td>41</td>\n",
       "      <td>41</td>\n",
       "      <td>350619803001004</td>\n",
       "      <td>35061000041</td>\n",
       "    </tr>\n",
       "    <tr>\n",
       "      <th>107211</th>\n",
       "      <td>350619803001005</td>\n",
       "      <td>35061000041</td>\n",
       "      <td>35</td>\n",
       "      <td>61</td>\n",
       "      <td>41</td>\n",
       "      <td>41</td>\n",
       "      <td>350619803001005</td>\n",
       "      <td>35061000041</td>\n",
       "    </tr>\n",
       "    <tr>\n",
       "      <th>107212</th>\n",
       "      <td>350619803001006</td>\n",
       "      <td>35061000041</td>\n",
       "      <td>35</td>\n",
       "      <td>61</td>\n",
       "      <td>41</td>\n",
       "      <td>41</td>\n",
       "      <td>350619803001006</td>\n",
       "      <td>35061000041</td>\n",
       "    </tr>\n",
       "    <tr>\n",
       "      <th>107213</th>\n",
       "      <td>350619803001007</td>\n",
       "      <td>35061000041</td>\n",
       "      <td>35</td>\n",
       "      <td>61</td>\n",
       "      <td>41</td>\n",
       "      <td>41</td>\n",
       "      <td>350619803001007</td>\n",
       "      <td>35061000041</td>\n",
       "    </tr>\n",
       "    <tr>\n",
       "      <th>107214</th>\n",
       "      <td>350619804001000</td>\n",
       "      <td>35061000001</td>\n",
       "      <td>35</td>\n",
       "      <td>61</td>\n",
       "      <td>1</td>\n",
       "      <td>1</td>\n",
       "      <td>350619804001000</td>\n",
       "      <td>35061000001</td>\n",
       "    </tr>\n",
       "  </tbody>\n",
       "</table>\n",
       "<p>107215 rows × 8 columns</p>\n",
       "</div>"
      ],
      "text/plain": [
       "                  Block        VTDID  State  County  VTD  VTD Name  \\\n",
       "0       350010001071000  35001000564     35       1  564       564   \n",
       "1       350010001071001  35001000564     35       1  564       564   \n",
       "2       350010001071002  35001000564     35       1  564       564   \n",
       "3       350010001071003  35001000564     35       1  564       564   \n",
       "4       350010001071004  35001000564     35       1  564       564   \n",
       "...                 ...          ...    ...     ...  ...       ...   \n",
       "107210  350619803001004  35061000041     35      61   41        41   \n",
       "107211  350619803001005  35061000041     35      61   41        41   \n",
       "107212  350619803001006  35061000041     35      61   41        41   \n",
       "107213  350619803001007  35061000041     35      61   41        41   \n",
       "107214  350619804001000  35061000001     35      61    1         1   \n",
       "\n",
       "                  block     vtdgeoid  \n",
       "0       350010001071000  35001000564  \n",
       "1       350010001071001  35001000564  \n",
       "2       350010001071002  35001000564  \n",
       "3       350010001071003  35001000564  \n",
       "4       350010001071004  35001000564  \n",
       "...                 ...          ...  \n",
       "107210  350619803001004  35061000041  \n",
       "107211  350619803001005  35061000041  \n",
       "107212  350619803001006  35061000041  \n",
       "107213  350619803001007  35061000041  \n",
       "107214  350619804001000  35061000001  \n",
       "\n",
       "[107215 rows x 8 columns]"
      ]
     },
     "execution_count": 5,
     "metadata": {},
     "output_type": "execute_result"
    }
   ],
   "source": [
    "# census_blocks\n",
    "assignments"
   ]
  },
  {
   "cell_type": "code",
   "execution_count": 6,
   "id": "152c2330",
   "metadata": {},
   "outputs": [],
   "source": [
    "assert len(set(assignments[\"block\"]) - set(census_blocks[\"GEOID20\"])) == 0"
   ]
  },
  {
   "cell_type": "code",
   "execution_count": 7,
   "id": "fd4aa247",
   "metadata": {},
   "outputs": [],
   "source": [
    "assert len(set(census_blocks[\"GEOID20\"]) - set(assignments[\"block\"])) == 0"
   ]
  },
  {
   "cell_type": "code",
   "execution_count": 8,
   "id": "3c098686",
   "metadata": {},
   "outputs": [
    {
     "data": {
      "text/plain": [
       "194"
      ]
     },
     "execution_count": 8,
     "metadata": {},
     "output_type": "execute_result"
    }
   ],
   "source": [
    "len(set(assignments[\"vtdgeoid\"]) - set(census_vtd[\"GEOID20\"])) # diff is not zero"
   ]
  },
  {
   "cell_type": "code",
   "execution_count": 9,
   "id": "07050035",
   "metadata": {},
   "outputs": [
    {
     "data": {
      "text/plain": [
       "20"
      ]
     },
     "execution_count": 9,
     "metadata": {},
     "output_type": "execute_result"
    }
   ],
   "source": [
    "len(set(census_vtd[\"GEOID20\"]) - set(assignments[\"vtdgeoid\"])) # diff is not zero"
   ]
  },
  {
   "cell_type": "code",
   "execution_count": 10,
   "id": "273568a3",
   "metadata": {},
   "outputs": [
    {
     "data": {
      "text/plain": [
       "1977"
      ]
     },
     "execution_count": 10,
     "metadata": {},
     "output_type": "execute_result"
    }
   ],
   "source": [
    "len(set(census_vtd[\"GEOID20\"]))"
   ]
  },
  {
   "cell_type": "code",
   "execution_count": 11,
   "id": "caff401e",
   "metadata": {},
   "outputs": [],
   "source": [
    "assert not assignments[\"vtdgeoid\"].astype(int).isna().any()"
   ]
  },
  {
   "cell_type": "code",
   "execution_count": 12,
   "id": "92000391",
   "metadata": {},
   "outputs": [
    {
     "data": {
      "text/plain": [
       "True"
      ]
     },
     "execution_count": 12,
     "metadata": {},
     "output_type": "execute_result"
    }
   ],
   "source": [
    "(census_blocks[\"GEOCODE\"] == census_blocks[\"GEOID20\"]).all()"
   ]
  },
  {
   "cell_type": "markdown",
   "id": "d05bdee9",
   "metadata": {},
   "source": [
    "Conclusions:\n",
    "- it appears that the state provided block assignment file totally covers the state and is valid\n",
    "- the state-provided block assignment file is *not* equivalent to the Census VTD assignments\n",
    "- we should produce an updated precincts file for NM"
   ]
  },
  {
   "cell_type": "markdown",
   "id": "d582c285",
   "metadata": {},
   "source": [
    "## Creating an updated NM precincts file"
   ]
  },
  {
   "cell_type": "code",
   "execution_count": 13,
   "id": "ec088466",
   "metadata": {},
   "outputs": [],
   "source": [
    "census_blocks = census_blocks.merge(assignments, left_on=\"GEOCODE\", right_on=\"block\")"
   ]
  },
  {
   "cell_type": "code",
   "execution_count": 14,
   "id": "16d54c85",
   "metadata": {},
   "outputs": [
    {
     "data": {
      "text/plain": [
       "Index(['STATEFP20', 'COUNTYFP20', 'TRACTCE20', 'BLOCKCE20', 'GEOID20',\n",
       "       'NAME20', 'MTFCC20', 'UR20', 'UACE20', 'UATYPE20', 'FUNCSTAT20',\n",
       "       'ALAND20', 'AWATER20', 'INTPTLAT20', 'INTPTLON20', 'TOTPOP', 'WHITE',\n",
       "       'BLACK', 'AMIN', 'ASIAN', 'NHPI', 'OTHER', '2MORE', 'HISP', 'VAP',\n",
       "       'WVAP', 'BVAP', 'AMINVAP', 'ASIANVAP', 'NHPIVAP', 'OTHERVAP',\n",
       "       '2MOREVAP', 'HVAP', 'LOGRECNO', 'GEOCODE', 'SUMLEV', 'geometry',\n",
       "       'Block', 'VTDID', 'State', 'County', 'VTD', 'VTD Name', 'block',\n",
       "       'vtdgeoid'],\n",
       "      dtype='object')"
      ]
     },
     "execution_count": 14,
     "metadata": {},
     "output_type": "execute_result"
    }
   ],
   "source": [
    "census_blocks.columns"
   ]
  },
  {
   "cell_type": "code",
   "execution_count": 30,
   "id": "4d7da43f",
   "metadata": {},
   "outputs": [
    {
     "name": "stdout",
     "output_type": "stream",
     "text": [
      "TOTPOP\n",
      "WHITE\n",
      "BLACK\n",
      "AMIN\n",
      "ASIAN\n",
      "NHPI\n",
      "OTHER\n",
      "2MORE\n",
      "HISP\n",
      "VAP\n",
      "WVAP\n",
      "BVAP\n",
      "AMINVAP\n",
      "ASIANVAP\n",
      "NHPIVAP\n",
      "OTHERVAP\n",
      "2MOREVAP\n",
      "HVAP\n"
     ]
    }
   ],
   "source": [
    "aggregation_method = {}\n",
    "for col in census_blocks.columns:\n",
    "    if col.endswith(\"VAP\") or str(col) in [\"ASIAN\", \"BLACK\", \"WHITE\", \"TOTPOP\", \"AMIN\", \"NHPI\", \"OTHER\", \"2MORE\", \"HISP\"]:\n",
    "        print(col)\n",
    "        aggregation_method[col] = \"sum\"\n",
    "    elif col == \"geometry\":\n",
    "        continue\n",
    "    else:\n",
    "        aggregation_method[col] = \"first\""
   ]
  },
  {
   "cell_type": "code",
   "execution_count": 31,
   "id": "50bf3572",
   "metadata": {},
   "outputs": [
    {
     "data": {
      "text/plain": [
       "geopandas.geodataframe.GeoDataFrame"
      ]
     },
     "execution_count": 31,
     "metadata": {},
     "output_type": "execute_result"
    }
   ],
   "source": [
    "type(census_blocks)"
   ]
  },
  {
   "cell_type": "code",
   "execution_count": 32,
   "id": "cdef69fa",
   "metadata": {},
   "outputs": [],
   "source": [
    "nm_precincts = census_blocks.dissolve(\"VTDID\", aggregation_method)"
   ]
  },
  {
   "cell_type": "code",
   "execution_count": 33,
   "id": "fa6ad508",
   "metadata": {},
   "outputs": [],
   "source": [
    "del nm_precincts[\"VTDID\"]"
   ]
  },
  {
   "cell_type": "code",
   "execution_count": 34,
   "id": "b56305ba",
   "metadata": {},
   "outputs": [],
   "source": [
    "nm_precincts.to_file(\"nm_precincts.shp\", index=True)"
   ]
  },
  {
   "cell_type": "markdown",
   "id": "c230b59a",
   "metadata": {},
   "source": [
    "## Basic QA"
   ]
  },
  {
   "cell_type": "code",
   "execution_count": 35,
   "id": "c133b361",
   "metadata": {},
   "outputs": [
    {
     "data": {
      "text/plain": [
       "<AxesSubplot:>"
      ]
     },
     "execution_count": 35,
     "metadata": {},
     "output_type": "execute_result"
    },
    {
     "data": {
      "image/png": "[encoded data removed]",
      "text/plain": [
       "<Figure size 432x288 with 1 Axes>"
      ]
     },
     "metadata": {
      "needs_background": "light"
     },
     "output_type": "display_data"
    }
   ],
   "source": [
    "nm_precincts.plot()"
   ]
  },
  {
   "cell_type": "code",
   "execution_count": 37,
   "id": "a69fdfe1",
   "metadata": {},
   "outputs": [],
   "source": [
    "assert len(nm_precincts) == len(set(assignments[\"VTDID\"]))"
   ]
  },
  {
   "cell_type": "code",
   "execution_count": null,
   "id": "310f59af",
   "metadata": {},
   "outputs": [],
   "source": []
  }
 ],
 "metadata": {
  "kernelspec": {
   "display_name": "Python 3 (ipykernel)",
   "language": "python",
   "name": "python3"
  },
  "language_info": {
   "codemirror_mode": {
    "name": "ipython",
    "version": 3
   },
   "file_extension": ".py",
   "mimetype": "text/x-python",
   "name": "python",
   "nbconvert_exporter": "python",
   "pygments_lexer": "ipython3",
   "version": "3.9.6"
  }
 },
 "nbformat": 4,
 "nbformat_minor": 5
}
